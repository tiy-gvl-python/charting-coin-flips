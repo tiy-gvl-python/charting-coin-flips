{
 "cells": [
  {
   "cell_type": "code",
   "execution_count": 16,
   "metadata": {
    "collapsed": false
   },
   "outputs": [
    {
     "name": "stdout",
     "output_type": "stream",
     "text": [
      "Heads\n",
      "Heads\n",
      "Heads\n",
      "Tails\n",
      "Heads\n",
      "Tails\n",
      "Tails\n",
      "Heads\n",
      "Tails\n",
      "Tails\n",
      "['Heads', 'Heads', 'Heads', 'Tails', 'Heads', 'Tails', 'Tails', 'Heads', 'Tails', 'Tails']\n",
      "55\n"
     ]
    }
   ],
   "source": [
    "import random \n",
    "\n",
    "def coin_flip(number):\n",
    "    heads = []\n",
    "    heads_count = 0\n",
    "    tails = []\n",
    "    tails_count = 0\n",
    "    for item in range(number):\n",
    "        toss = random.randint(0,1)\n",
    "        if toss == 0:\n",
    "            print(\"Heads\")\n",
    "            coin_flip_list.append(\"Heads\")\n",
    "            heads += 1\n",
    "        else:\n",
    "            print(\"Tails\")\n",
    "            coin_flip_list.append(\"Tails\")\n",
    "            tails += 1\n",
    "    print(coin_flip_list)\n",
    "    print(str(coin_flip_list.count(\"Heads\")) + str(coin_flip_list.count(\"Tails\")))\n",
    "\n",
    "coin_flip(10)\n"
   ]
  },
  {
   "cell_type": "code",
   "execution_count": 17,
   "metadata": {
    "collapsed": true
   },
   "outputs": [],
   "source": [
    "def repeat(n, fn):\n",
    "    return [fn() for _ in range(n)]\n",
    "\n",
    "def flip():\n",
    "    if random.random() > .5:\n",
    "        return\"Heads\"\n",
    "    else:\n",
    "        return\"Tails\""
   ]
  },
  {
   "cell_type": "code",
   "execution_count": 23,
   "metadata": {
    "collapsed": false
   },
   "outputs": [
    {
     "name": "stdout",
     "output_type": "stream",
     "text": [
      "Heads\n"
     ]
    }
   ],
   "source": [
    "print(flip())\n"
   ]
  },
  {
   "cell_type": "code",
   "execution_count": 133,
   "metadata": {
    "collapsed": false
   },
   "outputs": [
    {
     "data": {
      "text/plain": [
       "32718"
      ]
     },
     "execution_count": 133,
     "metadata": {},
     "output_type": "execute_result"
    }
   ],
   "source": [
    "repeat(2**16,flip).count(\"Heads\")\n",
    "\n",
    "\n",
    "\n",
    "\n"
   ]
  },
  {
   "cell_type": "markdown",
   "metadata": {},
   "source": [
    "2**2\n"
   ]
  },
  {
   "cell_type": "code",
   "execution_count": 102,
   "metadata": {
    "collapsed": false
   },
   "outputs": [
    {
     "data": {
      "image/png": "[encoded data removed]",
      "text/plain": [
       "<matplotlib.figure.Figure at 0x10734dcf8>"
      ]
     },
     "metadata": {},
     "output_type": "display_data"
    }
   ],
   "source": [
    "import random\n",
    "import math\n",
    "import statistics\n",
    "import matplotlib.pyplot as plt\n",
    "%matplotlib inline\n",
    "\n",
    "x1 = [\"2**0\",\"2**1\",\"2**2\",\"2**3\",\"2**4\",\"2**5\",\"2**6\",\"2**7\",\"2**8\",\"2**9\",\"2**10\", \"2**11\",\"2**12\",\"2**13\",\"2**14\",\"2**15\",\"2**16\"]\n",
    "y1 =(1,0,2,4,11,17,29,69,117,258, 528, 991, 2012, 4033, 8178, 16379, 33010)\n",
    "y2 =(0,2,2,4,5,15,35,59,139,254, 496, 1057, 2084, 4159, 8206, 16373, 32526)\n",
    "#y1 = number of tails\n",
    "#y2 = number of heads\n",
    "plt.plot(y1)\n",
    "plt.yscale(\"log\")\n",
    "plt.plot(y2)\n",
    "plt.xticks(range(17), x1)\n",
    "plt.xlabel(\"Powers of 2\")\n",
    "plt.ylabel(\"Frequency\")\n",
    "plt.title(\"Difference of Heads and Tails\")\n",
    "plt.show()\n",
    "\n",
    "#Line Graph of Heads and Tails"
   ]
  },
  {
   "cell_type": "code",
   "execution_count": 211,
   "metadata": {
    "collapsed": false
   },
   "outputs": [
    {
     "data": {
      "image/png": "[encoded data removed]",
      "text/plain": [
       "<matplotlib.figure.Figure at 0x1057c4ac8>"
      ]
     },
     "metadata": {},
     "output_type": "display_data"
    },
    {
     "ename": "TypeError",
     "evalue": "mean() takes 0 positional arguments but 2 were given",
     "output_type": "error",
     "traceback": [
      "\u001b[0;31m---------------------------------------------------------------------------\u001b[0m",
      "\u001b[0;31mTypeError\u001b[0m                                 Traceback (most recent call last)",
      "\u001b[0;32m<ipython-input-211-646b4cfc7f66>\u001b[0m in \u001b[0;36m<module>\u001b[0;34m()\u001b[0m\n\u001b[1;32m     21\u001b[0m \u001b[0;32mdef\u001b[0m \u001b[0mmean\u001b[0m\u001b[0;34m(\u001b[0m\u001b[0;34m)\u001b[0m\u001b[0;34m:\u001b[0m\u001b[0;34m\u001b[0m\u001b[0m\n\u001b[1;32m     22\u001b[0m     \u001b[0;32mreturn\u001b[0m \u001b[0mmean\u001b[0m\u001b[0;34m(\u001b[0m\u001b[0mx\u001b[0m\u001b[0;34m,\u001b[0m\u001b[0my\u001b[0m\u001b[0;34m)\u001b[0m\u001b[0;34m\u001b[0m\u001b[0m\n\u001b[0;32m---> 23\u001b[0;31m \u001b[0mprint\u001b[0m\u001b[0;34m(\u001b[0m\u001b[0mmean\u001b[0m\u001b[0;34m(\u001b[0m\u001b[0;34m)\u001b[0m\u001b[0;34m)\u001b[0m\u001b[0;34m\u001b[0m\u001b[0m\n\u001b[0m",
      "\u001b[0;32m<ipython-input-211-646b4cfc7f66>\u001b[0m in \u001b[0;36mmean\u001b[0;34m()\u001b[0m\n\u001b[1;32m     20\u001b[0m \u001b[0;34m\u001b[0m\u001b[0m\n\u001b[1;32m     21\u001b[0m \u001b[0;32mdef\u001b[0m \u001b[0mmean\u001b[0m\u001b[0;34m(\u001b[0m\u001b[0;34m)\u001b[0m\u001b[0;34m:\u001b[0m\u001b[0;34m\u001b[0m\u001b[0m\n\u001b[0;32m---> 22\u001b[0;31m     \u001b[0;32mreturn\u001b[0m \u001b[0mmean\u001b[0m\u001b[0;34m(\u001b[0m\u001b[0mx\u001b[0m\u001b[0;34m,\u001b[0m\u001b[0my\u001b[0m\u001b[0;34m)\u001b[0m\u001b[0;34m\u001b[0m\u001b[0m\n\u001b[0m\u001b[1;32m     23\u001b[0m \u001b[0mprint\u001b[0m\u001b[0;34m(\u001b[0m\u001b[0mmean\u001b[0m\u001b[0;34m(\u001b[0m\u001b[0;34m)\u001b[0m\u001b[0;34m)\u001b[0m\u001b[0;34m\u001b[0m\u001b[0m\n",
      "\u001b[0;31mTypeError\u001b[0m: mean() takes 0 positional arguments but 2 were given"
     ]
    }
   ],
   "source": [
    "import random\n",
    "import math\n",
    "import statistics\n",
    "import matplotlib.pyplot as plt\n",
    "%matplotlib inline\n",
    "\n",
    "import numpy as np\n",
    "import matplotlib.pyplot as plt\n",
    "\n",
    "#x = number of tails\n",
    "#y = number of heads\n",
    "x = (1,0,2,4,11,17,29,69,117,258, 528, 991, 2012, 4033, 8178, 16379, 33010)\n",
    "y = (0,2,2,4,5,15,35,59,139,254, 496, 1057, 2084, 4159, 8206, 16373, 32526)\n",
    "\n",
    "area = np.pi \n",
    "\n",
    "plt.scatter(x, y)\n",
    "plt.show()\n",
    "#Scatter plot of Heads and Tails\n",
    "\n"
   ]
  },
  {
   "cell_type": "code",
   "execution_count": 207,
   "metadata": {
    "collapsed": false
   },
   "outputs": [
    {
     "name": "stdout",
     "output_type": "stream",
     "text": [
      "0.9853377764313844\n",
      "0.993915054156018\n",
      "1.0048947626040137\n",
      "0.985277634727818\n",
      "1.0055696667380727\n",
      "0.9948861560939973\n",
      "0.9818555703399057\n",
      "0.9957974236379694\n",
      "0.9902213854049622\n",
      "0.9946432919405892\n",
      "0.9948861560939973\n",
      "1.0038526219232533\n",
      "1.0104917630456791\n",
      "0.9970137428771674\n",
      "0.9998169112935217\n",
      "0.9874450341167551\n",
      "1.0071052309200048\n",
      "0.9960405689397862\n",
      "0.9937330777889325\n",
      "0.9969528917057712\n"
     ]
    }
   ],
   "source": [
    "#20 Trials of 2 ** 16\n",
    "heads = [32526, 32668, 32848, 32525, 32859, 32684, 32468, 32699, 32607, 32680, 32684, 32831, 32939, 32719, 32765, 32561, 32884, 32703, 32665, 32718]\n",
    "tails = [33010, 32868, 32688, 33011, 32677, 32852, 33068, 32837, 32929, 32856, 32852, 32705, 32597, 32817, 32771, 32975, 32652, 32833, 32871, 32818]             \n",
    "ratio_list =[.98, .99, 1.00, .98, 1.00, .99, .98, .99, .99, .99, .99,  1.00, 1.01, .99, .99, .98, 1.00,.99, .99, .99, .99] \n",
    "# manually typed this list in here.\n",
    "zipped = zip(heads, tails)\n",
    "for heads, tails in zipped:\n",
    "    print(heads / tails)\n",
    "     \n",
    "    \n",
    "\n"
   ]
  },
  {
   "cell_type": "code",
   "execution_count": 217,
   "metadata": {
    "collapsed": false
   },
   "outputs": [
    {
     "data": {
      "image/png": "[encoded data removed]",
      "text/plain": [
       "<matplotlib.figure.Figure at 0x107329a90>"
      ]
     },
     "metadata": {},
     "output_type": "display_data"
    }
   ],
   "source": [
    "# 20 times for 2**16\n",
    "import random\n",
    "import math\n",
    "import statistics\n",
    "import matplotlib.pyplot as plt\n",
    "%matplotlib inline\n",
    "\n",
    "import numpy as np\n",
    "import matplotlib.pyplot as plt\n",
    "\n",
    "#x = number of tails\n",
    "#y = number of heads\n",
    "x =(33010, 32868, 32688, 33011, 32677, 32852, 33068, 32837, 32929, 32856, 32852, 32705, 32597, 32817, 32771, 32975, 32652, 32833, 32871, 32818)\n",
    "y =(33010, 32868, 32688, 33011, 32677, 32852, 33068, 32837, 32929, 32856, 32852, 32705, 32597, 32817, 32771, 32975, 32652, 32833, 32871, 32818)\n",
    "\n",
    "area = np.pi \n",
    "\n",
    "plt.scatter(x, y)\n",
    "plt.show()\n",
    "#Scatter Plot for 20 times 2**16, number of tails and heads"
   ]
  },
  {
   "cell_type": "code",
   "execution_count": 219,
   "metadata": {
    "collapsed": false
   },
   "outputs": [
    {
     "data": {
      "image/png": "[encoded data removed]",
      "text/plain": [
       "<matplotlib.figure.Figure at 0x107b88128>"
      ]
     },
     "metadata": {},
     "output_type": "display_data"
    }
   ],
   "source": [
    "#20 Trials of 2 ** 16\n",
    "import random\n",
    "import math\n",
    "import statistics\n",
    "import matplotlib.pyplot as plt\n",
    "%matplotlib inline\n",
    "\n",
    "import numpy as np\n",
    "import matplotlib.pyplot as plt\n",
    "\n",
    "#x = number of tails\n",
    "#y = number of heads\n",
    "#don't know what the x should be\n",
    "x =(1,2,3,4,5,6,7,8,9,10,11,12,13,14,15,16,17,18,19,20) \n",
    "y =(.98, .99, 1.00, .98, 1.00, .99, .98, .99, .99, .99, .99,  1.00, 1.01, .99, .99, .98, 1.00,.99, .99, .99) \n",
    "plt.xscale(\"log\")\n",
    "area = np.pi \n",
    "\n",
    "plt.scatter(x, y)\n",
    "plt.show()\n",
    "#Scatter Plot of ratios"
   ]
  },
  {
   "cell_type": "code",
   "execution_count": null,
   "metadata": {
    "collapsed": true
   },
   "outputs": [],
   "source": []
  },
  {
   "cell_type": "code",
   "execution_count": 177,
   "metadata": {
    "collapsed": false
   },
   "outputs": [
    {
     "ename": "TypeError",
     "evalue": "'int' object is not iterable",
     "output_type": "error",
     "traceback": [
      "\u001b[0;31m---------------------------------------------------------------------------\u001b[0m",
      "\u001b[0;31mTypeError\u001b[0m                                 Traceback (most recent call last)",
      "\u001b[0;32m<ipython-input-177-2c8a590c145e>\u001b[0m in \u001b[0;36m<module>\u001b[0;34m()\u001b[0m\n\u001b[1;32m      5\u001b[0m \u001b[0;31m#list(zipped)\u001b[0m\u001b[0;34m\u001b[0m\u001b[0;34m\u001b[0m\u001b[0m\n\u001b[1;32m      6\u001b[0m \u001b[0;32mfor\u001b[0m \u001b[0mheads\u001b[0m\u001b[0;34m,\u001b[0m \u001b[0mtails\u001b[0m \u001b[0;32min\u001b[0m \u001b[0mzipped\u001b[0m\u001b[0;34m:\u001b[0m\u001b[0;34m\u001b[0m\u001b[0m\n\u001b[0;32m----> 7\u001b[0;31m     \u001b[0mprint\u001b[0m\u001b[0;34m(\u001b[0m\u001b[0mlist\u001b[0m\u001b[0;34m(\u001b[0m\u001b[0mint\u001b[0m\u001b[0;34m(\u001b[0m\u001b[0mheads\u001b[0m \u001b[0;34m/\u001b[0m \u001b[0mtails\u001b[0m\u001b[0;34m)\u001b[0m\u001b[0;34m)\u001b[0m\u001b[0;34m)\u001b[0m\u001b[0;34m\u001b[0m\u001b[0m\n\u001b[0m\u001b[1;32m      8\u001b[0m \u001b[0;34m\u001b[0m\u001b[0m\n",
      "\u001b[0;31mTypeError\u001b[0m: 'int' object is not iterable"
     ]
    }
   ],
   "source": []
  },
  {
   "cell_type": "code",
   "execution_count": 157,
   "metadata": {
    "collapsed": false
   },
   "outputs": [
    {
     "name": "stdout",
     "output_type": "stream",
     "text": [
      "32818\n"
     ]
    }
   ],
   "source": [
    "x = 65536 - 32718\n",
    "print(x)\n"
   ]
  },
  {
   "cell_type": "code",
   "execution_count": null,
   "metadata": {
    "collapsed": true
   },
   "outputs": [],
   "source": []
  }
 ],
 "metadata": {
  "kernelspec": {
   "display_name": "Python 3",
   "language": "python",
   "name": "python3"
  },
  "language_info": {
   "codemirror_mode": {
    "name": "ipython",
    "version": 3
   },
   "file_extension": ".py",
   "mimetype": "text/x-python",
   "name": "python",
   "nbconvert_exporter": "python",
   "pygments_lexer": "ipython3",
   "version": "3.4.3"
  }
 },
 "nbformat": 4,
 "nbformat_minor": 0
}
