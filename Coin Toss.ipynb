{
 "cells": [
  {
   "cell_type": "code",
   "execution_count": 4,
   "metadata": {
    "collapsed": false
   },
   "outputs": [],
   "source": [
    "import random\n",
    "import math\n",
    "import statistics\n",
    "import matplotlib.pyplot as plt"
   ]
  },
  {
   "cell_type": "code",
   "execution_count": 1,
   "metadata": {
    "collapsed": true
   },
   "outputs": [],
   "source": [
    "%matplotlib inline"
   ]
  },
  {
   "cell_type": "code",
   "execution_count": 31,
   "metadata": {
    "collapsed": false
   },
   "outputs": [
    {
     "name": "stdout",
     "output_type": "stream",
     "text": [
      "[1, 2, -2, 0, 2, -8, 4, 6, 20, 34, -38, 18, -10, -78, 64, -144, 640]\n",
      "[inf, inf, 0.3333333333333333, 1.0, 1.2857142857142858, 0.6, 1.1333333333333333, 1.098360655737705, 1.1694915254237288, 1.1422594142259415, 0.928436911487759, 1.0177339901477833, 0.9951290793960058, 0.981136638452237, 1.007843137254902, 0.9912493923189111, 1.0197238658777121]\n"
     ]
    }
   ],
   "source": [
    "def flip(number):\n",
    "    counter = 0 \n",
    "    while counter < (number):\n",
    "        counter += 1\n",
    "        yield random.randint(0, 1)\n",
    "\n",
    "\n",
    "def generate_lists():\n",
    "    counter = 0\n",
    "    start_index = 0\n",
    "    stop_index = 2 ** 0\n",
    "    generator_list = list(flip(2 ** 17))\n",
    "    while counter < 17:\n",
    "        x = generator_list[start_index:stop_index]\n",
    "        counter += 1\n",
    "        start_index = stop_index\n",
    "        stop_index = (start_index * 2) + 1\n",
    "        yield x\n",
    "\n",
    "\n",
    "def difference(generator_list):\n",
    "    false_counter = 0\n",
    "    true_counter = 0\n",
    "    for list in generator_list:\n",
    "        false_counter = 0\n",
    "        true_counter = 0\n",
    "        for element in list:\n",
    "            if element:\n",
    "                true_counter += 1\n",
    "            if not element:\n",
    "                false_counter += 1\n",
    "        yield false_counter - true_counter\n",
    "        \n",
    "def ratio(generator_list):\n",
    "    false_counter = 0\n",
    "    true_counter = 0\n",
    "    for list in generator_list:\n",
    "        false_counter = 0\n",
    "        true_counter = 0\n",
    "        for element in list:\n",
    "            if element:\n",
    "                true_counter += 1\n",
    "            if not element:\n",
    "                false_counter += 1\n",
    "        try:            \n",
    "            yield false_counter / true_counter\n",
    "        except ZeroDivisionError:\n",
    "            yield float(\"inf\")\n",
    "            \n",
    "data = list(generate_lists())\n",
    "\n",
    "diff = list(difference(data))\n",
    "\n",
    "rat = list(ratio(data))\n",
    "\n",
    "\n",
    "print(diff)\n",
    "\n",
    "print(rat)\n"
   ]
  },
  {
   "cell_type": "code",
   "execution_count": 36,
   "metadata": {
    "collapsed": false
   },
   "outputs": [
    {
     "data": {
      "image/png": "[encoded data removed]",
      "text/plain": [
       "<matplotlib.figure.Figure at 0x104f3e550>"
      ]
     },
     "metadata": {},
     "output_type": "display_data"
    }
   ],
   "source": [
    "x1 = [\"** 0\", \"** 1\", \"** 2\", \"** 3\", \"** 4\", \"** 5\", \"** 6\", \"** 7\", \"** 8\", \"** 9\", \"** 10\", \"** 11\", \"** 12\", \"** 13\", \"** 14\", \"** 15\", \"** 16\"]\n",
    "y1 = [diff[0], diff[1], diff[2], diff[3], diff[4], diff[5], diff[6], diff[7], diff[8], diff[9], diff[10], diff[11], diff[12], diff[13], diff[14], diff[15], diff[16]]\n",
    "plt.plot(y1)\n",
    "plt.xticks(range(17), x1)\n",
    "plt.xlabel(\"Difference\")\n",
    "plt.ylabel(\"Flips\")\n",
    "plt.title(\"Difference of Coin Toss\")\n",
    "plt.show()\n",
    "\n"
   ]
  },
  {
   "cell_type": "code",
   "execution_count": 37,
   "metadata": {
    "collapsed": false
   },
   "outputs": [
    {
     "data": {
      "image/png": "[encoded data removed]",
      "text/plain": [
       "<matplotlib.figure.Figure at 0x104efeb38>"
      ]
     },
     "metadata": {},
     "output_type": "display_data"
    }
   ],
   "source": [
    "x1 = [\"** 0\", \"** 1\", \"** 2\", \"** 3\", \"** 4\", \"** 5\", \"** 6\", \"** 7\", \"** 8\", \"** 9\", \"** 10\", \"** 11\", \"** 12\", \"** 13\", \"** 14\", \"** 15\", \"** 16\"]\n",
    "y1 = [rat[0], rat[1], rat[2], rat[3], rat[4], rat[5], rat[6], rat[7], rat[8], rat[9], rat[10], rat[11], rat[12], rat[13], rat[14], rat[15], rat[16]]\n",
    "plt.plot(y1)\n",
    "plt.xticks(range(17), x1)\n",
    "plt.xlabel(\"Difference\")\n",
    "plt.ylabel(\"Flips\")\n",
    "plt.title(\"Difference of Coin Toss\")\n",
    "plt.show()\n"
   ]
  },
  {
   "cell_type": "code",
   "execution_count": 38,
   "metadata": {
    "collapsed": false
   },
   "outputs": [
    {
     "data": {
      "image/png": "[encoded data removed]",
      "text/plain": [
       "<matplotlib.figure.Figure at 0x104ef4c88>"
      ]
     },
     "metadata": {},
     "output_type": "display_data"
    }
   ],
   "source": [
    "\n",
    "plt.plot(diff)\n",
    "plt.xscale('log')\n",
    "plt.show()"
   ]
  },
  {
   "cell_type": "code",
   "execution_count": 64,
   "metadata": {
    "collapsed": false
   },
   "outputs": [
    {
     "data": {
      "image/png": "[encoded data removed]",
      "text/plain": [
       "<matplotlib.figure.Figure at 0x104f3cf60>"
      ]
     },
     "metadata": {},
     "output_type": "display_data"
    }
   ],
   "source": [
    "plt.plot(rat)\n",
    "plt.xscale('log')\n",
    "plt.show()"
   ]
  },
  {
   "cell_type": "code",
   "execution_count": 62,
   "metadata": {
    "collapsed": false
   },
   "outputs": [
    {
     "name": "stdout",
     "output_type": "stream",
     "text": [
      "[1.0053855569155448, 1.005017438658753, 1.0056924254016832, 0.9890133236213542, 0.993915054156018, 0.9982924746920356, 0.9896171711345214, 1.0021385146488253, 0.9965878625396052, 0.9971354563461832, 1.007289656651046, 1.0056924254016832, 1.0113556148912008, 1.0056924254016832, 1.000061037018952, 0.9923995986988113, 1.0036075697820173, 1.0010381362401148, 0.9993898346451888, 1.0018938815407643]\n"
     ]
    }
   ],
   "source": [
    "\n",
    "def trials():\n",
    "    counter = 0\n",
    "    trial_list = []\n",
    "    while counter < 20:\n",
    "        counter += 1\n",
    "        trial_list.append(list(generate_lists()))\n",
    "    return trial_list\n",
    "\n",
    "\n",
    "def ratio_of_trials():\n",
    "    false_counter = 0\n",
    "    true_counter = 0\n",
    "    for trial_list in trials():\n",
    "        for lower_list in trial_list:\n",
    "            false_counter = 0\n",
    "            true_counter = 0\n",
    "            for element in lower_list:\n",
    "                if element:\n",
    "                    true_counter += 1\n",
    "                if not element:\n",
    "                    false_counter += 1\n",
    "        try:            \n",
    "            yield false_counter / true_counter\n",
    "        except ZeroDivisionError:\n",
    "            yield float(\"inf\")\n",
    "\n",
    "print(list(ratio_of_trials()))"
   ]
  },
  {
   "cell_type": "code",
   "execution_count": null,
   "metadata": {
    "collapsed": true
   },
   "outputs": [],
   "source": []
  },
  {
   "cell_type": "code",
   "execution_count": null,
   "metadata": {
    "collapsed": true
   },
   "outputs": [],
   "source": []
  }
 ],
 "metadata": {
  "kernelspec": {
   "display_name": "Python 3",
   "language": "python",
   "name": "python3"
  },
  "language_info": {
   "codemirror_mode": {
    "name": "ipython",
    "version": 3
   },
   "file_extension": ".py",
   "mimetype": "text/x-python",
   "name": "python",
   "nbconvert_exporter": "python",
   "pygments_lexer": "ipython3",
   "version": "3.4.3"
  }
 },
 "nbformat": 4,
 "nbformat_minor": 0
}
