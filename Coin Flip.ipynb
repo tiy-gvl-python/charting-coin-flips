{
 "cells": [
  {
   "cell_type": "markdown",
   "metadata": {},
   "source": [
    "# Coin Flip"
   ]
  },
  {
   "cell_type": "code",
   "execution_count": 5,
   "metadata": {
    "collapsed": true
   },
   "outputs": [],
   "source": [
    "import random\n",
    "import math\n",
    "\n",
    "\n",
    "import statistics\n",
    "import matplotlib.pyplot as plt\n"
   ]
  },
  {
   "cell_type": "code",
   "execution_count": 6,
   "metadata": {
    "collapsed": true
   },
   "outputs": [],
   "source": [
    "%matplotlib inline"
   ]
  },
  {
   "cell_type": "code",
   "execution_count": 7,
   "metadata": {
    "collapsed": false
   },
   "outputs": [],
   "source": [
    "\n",
    "\n",
    "\n",
    "class Coin:\n",
    "    \n",
    "    \n",
    "    \n",
    "    def __init__(self):\n",
    "        self.re_flips = []\n",
    "        self.tails = 0\n",
    "        self.heads = 0\n",
    "\n",
    "    def flip(self):  \n",
    "        self.a_flip = random.randint(0,1)\n",
    "        return self.a_flip\n",
    "    \n",
    "    \n",
    "    def re_flip(self, n):\n",
    "        for _ in range(n):\n",
    "            self.re_flips =  self.re_flips + [self.flip()]  \n",
    "            for x in self.re_flips:\n",
    "                if x == 0:\n",
    "                    self.heads = self.heads + 1\n",
    "                elif x == 1:\n",
    "                    self.tails = self.tails + 1\n",
    "                else:\n",
    "                    pass    \n",
    "        return self.re_flips\n",
    "    \n",
    "    \n",
    "    \n",
    "    def face_list(self, collection):\n",
    "        self.faces = []\n",
    "        for value in collection:\n",
    "            if value == 0:\n",
    "                self.faces = self.faces + ['heads']\n",
    "            elif value == 1:\n",
    "                self.faces = self.faces + ['tails']\n",
    "            else:\n",
    "                pass\n",
    "    \n",
    "        return self.faces\n",
    "    \n",
    " \n",
    "    "
   ]
  },
  {
   "cell_type": "code",
   "execution_count": 8,
   "metadata": {
    "collapsed": false
   },
   "outputs": [
    {
     "name": "stdout",
     "output_type": "stream",
     "text": [
      "[0, 2, 4, 14, 29, 59] [1, 3, 9, 15, 32, 66]\n"
     ]
    }
   ],
   "source": [
    "coin = Coin()\n",
    "\n",
    "exp_list = [(2**0), (2**2), (2**3), (2**4), (2**5), (2**6)]\n",
    "#, (2**7), (2**8), (2**9), (2**10), (2**11), (2**12), (2**13), (2**14), (2**15), (2**16)]\n",
    "\n",
    "coin_to_the_exp = [coin.re_flip(x) for x in exp_list]\n",
    "\n",
    "heads_in_tails = [coin.face_list(x) for x in coin_to_the_exp]\n",
    "\n",
    "\n",
    "tails = [(len(x) - sum(x)) for x in coin_to_the_exp]\n",
    "heads = [sum(x) for x in coin_to_the_exp]\n",
    "print(heads, tails)"
   ]
  },
  {
   "cell_type": "markdown",
   "metadata": {},
   "source": [
    "### Line Plot\n",
    "\n"
   ]
  },
  {
   "cell_type": "code",
   "execution_count": 14,
   "metadata": {
    "collapsed": false
   },
   "outputs": [
    {
     "data": {
      "image/png": "[encoded data removed]",
      "text/plain": [
       "<matplotlib.figure.Figure at 0x106c35e10>"
      ]
     },
     "metadata": {},
     "output_type": "display_data"
    }
   ],
   "source": [
    "\n",
    "\n",
    "y1 = tails\n",
    "y2 = heads\n",
    "plt.xticks(range(6), exp_list)\n",
    "plt.plot(y1)\n",
    "plt.plot(y2)\n",
    "plt.title(\"Difference in Heads and Tails\")\n",
    "\n",
    "\n",
    "\n",
    "\n",
    "plt.show()\n",
    "\n",
    "\n",
    "\n"
   ]
  },
  {
   "cell_type": "code",
   "execution_count": 23,
   "metadata": {
    "collapsed": false
   },
   "outputs": [
    {
     "data": {
      "image/png": "[encoded data removed]",
      "text/plain": [
       "<matplotlib.figure.Figure at 0x106b79d30>"
      ]
     },
     "metadata": {},
     "output_type": "display_data"
    }
   ],
   "source": [
    "y1 = heads\n",
    "y2 = tails\n",
    "plt.scatter(y1, y2)\n",
    "\n",
    "\n",
    "plt.title(\"Difference in Heads and Tails\")\n",
    "\n",
    "#plt.xscale(\"log\")\n",
    "plt.xlabel(\"Heads\")\n",
    "plt.ylabel(\"Tails\")\n",
    "plt.show()\n",
    "\n",
    "# shows that variation in heads and tails slows with increase in occurance of head flipping"
   ]
  },
  {
   "cell_type": "code",
   "execution_count": null,
   "metadata": {
    "collapsed": false
   },
   "outputs": [],
   "source": []
  },
  {
   "cell_type": "code",
   "execution_count": null,
   "metadata": {
    "collapsed": true
   },
   "outputs": [],
   "source": []
  }
 ],
 "metadata": {
  "kernelspec": {
   "display_name": "Python 3",
   "language": "python",
   "name": "python3"
  },
  "language_info": {
   "codemirror_mode": {
    "name": "ipython",
    "version": 3
   },
   "file_extension": ".py",
   "mimetype": "text/x-python",
   "name": "python",
   "nbconvert_exporter": "python",
   "pygments_lexer": "ipython3",
   "version": "3.4.2"
  }
 },
 "nbformat": 4,
 "nbformat_minor": 0
}
